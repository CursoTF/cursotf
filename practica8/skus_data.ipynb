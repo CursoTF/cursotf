{
 "cells": [
  {
   "cell_type": "code",
   "execution_count": null,
   "metadata": {},
   "outputs": [],
   "source": [
    "import json as js\n",
    "\n",
    "with open(\"sku_names.json\", \"r\") as data_file:\n",
    "    data = js.load(data_file)\n",
    "\n",
    "    for edition in data[\"supportedServerVersions\"][0][\"supportedEditions\"]:\n",
    "        for level in edition[\"supportedServiceLevelObjectives\"]:\n",
    "            print(f\"Edición: {edition['name']:18} - Nivel {level['name']:15} - Performance {level['performanceLevel']['value']:8} - Unit {level['performanceLevel']['unit']:10}\")\n",
    "\n"
   ]
  }
 ],
 "metadata": {
  "kernelspec": {
   "display_name": "Python 3",
   "language": "python",
   "name": "python3"
  },
  "language_info": {
   "codemirror_mode": {
    "name": "ipython",
    "version": 3
   },
   "file_extension": ".py",
   "mimetype": "text/x-python",
   "name": "python",
   "nbconvert_exporter": "python",
   "pygments_lexer": "ipython3",
   "version": "3.12.3"
  }
 },
 "nbformat": 4,
 "nbformat_minor": 2
}
